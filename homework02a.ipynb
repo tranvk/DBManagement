{
 "cells": [
  {
   "cell_type": "markdown",
   "metadata": {},
   "source": [
    "# NBA Player Data\n",
    "\n",
    "## 3 .csv files from:\n",
    "https://www.kaggle.com/drgilermo/nba-players-stats\n",
    "\n",
    "### Data collected by Omri Goldstein from Kaggle with 162 votes. Scraped from basketball-reference.com.\n",
    "\n",
    "### Data Contents:\n",
    "* player_data.csv: Column split csv with information about individual players. Columns: name, year_start, year_end, position, height, weight, birth_date, college. 8 header columns. Size: 4551 x 8\n",
    "\n",
    "* Players.csv: Detailed information personal about player - height, weight, college, birthdate, birth_city, birth_state. Size: 3923 x 8\n",
    "\n",
    "* Seasons_Stats.csv: Very detailed season stats for a given player. Describes important game statistics including: Team, games, games started, minutes played, player efficiency rating, true shooting percent, 3 point attempt rate, free throw rate, offensive rebound percentage, etc. Size - 24.7k x 53\n",
    "\n",
    "\n",
    "# 1 dataset scraped by me from: \n",
    "https://stats.nba.com/draft/history/?Season={Season}\n",
    "\n",
    "## Where {Season} is year in range 2007 - 2017\n"
   ]
  },
  {
   "cell_type": "markdown",
   "metadata": {},
   "source": [
    "# Why this dataset?\n",
    "\n",
    "## These datasets are required to answer the following questions\n",
    "\n",
    "\n",
    "# Questions:\n",
    "* How does draft order affect success? Look at top 3 draft picks for each year and analyze how they are currently playing.\n",
    "* How do Lebron's stats look? Is Lebron slowing down with age or is he getting better? Are other players his age able to keep up?\n",
    "* How many players have averaged superior numbers passed age 30?"
   ]
  },
  {
   "cell_type": "markdown",
   "metadata": {},
   "source": [
    "# Scrape NBA draft data"
   ]
  },
  {
   "cell_type": "code",
   "execution_count": 74,
   "metadata": {},
   "outputs": [],
   "source": [
    "import re\n",
    "import requests\n",
    "import pandas as pd\n",
    "import html\n",
    "import csv\n",
    "from bs4 import BeautifulSoup "
   ]
  },
  {
   "cell_type": "code",
   "execution_count": 94,
   "metadata": {},
   "outputs": [
    {
     "name": "stdout",
     "output_type": "stream",
     "text": [
      "['Rnd.', 'Pick', 'Player', 'Pos.', 'Team', 'School', '/', 'club', 'team', '1', '1', 'Karl-Anthony', 'Towns', 'C', 'Minnesota', 'Timberwolves', 'Kentucky', '(Fr.)', '1', '2', \"D'Angelo\", 'Russell', 'PG/SG', 'Los', 'Angeles', 'Lakers', 'Ohio', 'State', '(Fr.)', '1', '3', 'Jahlil', 'Okafor', 'C', 'Philadelphia', '76ers', 'Duke', '(Fr.)', '1', '4', 'Kristaps', 'Porziņģis', 'PF', 'New', 'York', 'Knicks', 'Baloncesto', 'Sevilla', '(Spain)', '1', '5', 'Mario', 'Hezonja', 'SG/SF', 'Orlando', 'Magic', 'FC', 'Barcelona', '(Spain)', '1', '6', 'Willie', 'Cauley-Stein', 'C', 'Sacramento', 'Kings', 'Kentucky', '(Jr.)', '1', '7', 'Emmanuel', 'Mudiay', 'PG', 'Denver', 'Nuggets', 'Guangdong', 'Southern', 'Tigers', '(China)', '1', '8', 'Stanley', 'Johnson', 'SF', 'Detroit', 'Pistons', 'Arizona', '(Fr.)', '1', '9', 'Frank', 'Kaminsky', 'C', 'Charlotte', 'Hornets', 'Wisconsin', '(Sr.)', '1', '10', 'Justise', 'Winslow', 'SF', 'Miami', 'Heat', 'Duke', '(Fr.)', '1', '11', 'Myles', 'Turner', 'C', 'Indiana', 'Pacers', 'Texas', '(Fr.)', '1', '12', 'Trey', 'Lyles', 'PF', 'Utah', 'Jazz', 'Kentucky', '(Fr.)', '1', '13', 'Devin', 'Booker', 'SG', 'Phoenix', 'Suns', 'Kentucky', '(Fr.)', '1', '14', 'Cameron', 'Payne', 'PG', 'Oklahoma', 'City', 'Thunder', 'Murray', 'State', '(So.)', '1', '15', 'Kelly', 'Oubre', 'Jr.', 'SG', 'Atlanta', 'Hawks', 'Kansas', '(Fr.)', '1', '16', 'Terry', 'Rozier', 'PG', 'Boston', 'Celtics', 'Louisville', '(So.)', '1', '17', 'Rashad', 'Vaughn', 'SG', 'Milwaukee', 'Bucks', 'UNLV', '(Fr.)', '1', '18', 'Sam', 'Dekker', 'SF', 'Houston', 'Rockets', 'Wisconsin', '(Jr.)', '1', '19', 'Jerian', 'Grant', 'PG', 'Washington', 'Wizards', 'Notre', 'Dame', '(Sr.)', '1', '20', 'Delon', 'Wright', 'PG', 'Toronto', 'Raptors', 'Utah', '(Sr.)', '1', '21', 'Justin', 'Anderson', 'SF', 'Dallas', 'Mavericks', 'Virginia', '(Jr.)', '1', '22', 'Bobby', 'Portis', 'PF', 'Chicago', 'Bulls', 'Arkansas', '(So.)', '1', '23', 'Rondae', 'Hollis-Jefferson', 'SF', 'Portland', 'Trail', 'Blazers', 'Arizona', '(So.)', '1', '24', 'Tyus', 'Jones', 'PG', 'Cleveland', 'Cavaliers', 'Duke', '(Fr.)', '1', '25', 'Jarell', 'Martin', 'PF', 'Memphis', 'Grizzlies', 'LSU', '(So.)', '1', '26', 'Nikola', 'Milutinov', 'C', 'San', 'Antonio', 'Spurs', 'Partizan', 'Belgrade', '(Serbia)', '1', '27', 'Larry', 'Nance', 'Jr.', 'PF', 'Los', 'Angeles', 'Lakers', 'Wyoming', '(Sr.)', '1', '28', 'R.', 'J.', 'Hunter', 'SG', 'Boston', 'Celtics', 'Georgia', 'State', '(Jr.)', '1', '29', 'Chris', 'McCullough', 'PF', 'Brooklyn', 'Nets', 'Syracuse', '(Fr.)', '1', '30', 'Kevon', 'Looney', 'PF', 'Golden', 'State', 'Warriors', 'UCLA', '(Fr.)', '2', '31', 'Cedi', 'Osman#', 'SG/SF', 'Minnesota', 'Timberwolves', 'Anadolu', 'Efes', '(Turkey)', '2', '32', 'Montrezl', 'Harrell', 'PF', 'Houston', 'Rockets', 'Louisville', '(Jr.)', '2', '33', 'Jordan', 'Mickey', 'PF', 'Boston', 'Celtics', 'LSU', '(So.)', '2', '34', 'Anthony', 'Brown', 'SF', 'Los', 'Angeles', 'Lakers', 'Stanford', '(Sr.)', '2', '35', 'Willy', 'Hernangómez', 'C', 'Philadelphia', '76ers', 'Baloncesto', 'Sevilla', '(Spain)', '2', '36', 'Rakeem', 'Christmas', 'PF/C', 'Minnesota', 'Timberwolves', 'Syracuse', '(Sr.)', '2', '37', 'Richaun', 'Holmes', 'SF/PF', 'Philadelphia', '76ers', 'Bowling', 'Green', '(Sr.)', '2', '38', 'Darrun', 'Hilliard', 'SG', 'Detroit', 'Pistons', 'Villanova', '(Sr.)', '2', '39', 'Juan', 'Pablo', 'Vaulet', 'SF', 'Charlotte', 'Hornets', 'Estudiantes', 'de', 'Bahía', '(Argentina)', '2', '40', 'Josh', 'Richardson', 'SG', 'Miami', 'Heat', 'Tennessee', '(Sr.)', '2', '41', 'Pat', 'Connaughton', 'SF', 'Brooklyn', 'Nets', 'Notre', 'Dame', '(Sr.)', '2', '42', 'Olivier', 'Hanlan', 'PG', 'Utah', 'Jazz', 'Boston', 'College', '(Jr.)', '2', '43', 'Joseph', 'Young', 'PG', 'Indiana', 'Pacers', 'Oregon', '(Sr.)', '2', '44', 'Andrew', 'Harrison', 'PG', 'Phoenix', 'Suns', 'Kentucky', '(So.)', '2', '45', 'Marcus', 'Thornton', 'PG', 'Boston', 'Celtics', 'William', '&', 'Mary', '(Sr.)', '2', '46', 'Norman', 'Powell', 'SG', 'Milwaukee', 'Bucks', 'UCLA', '(Sr.)', '2', '47', 'Artūras', 'Gudaitis', 'C', 'Philadelphia', '76ers', '\\x8ealgiris', 'Kaunas', '(Lithuania)', '2', '48', 'Dakari', 'Johnson', 'C', 'Oklahoma', 'City', 'Thunder', 'Kentucky', '(So.)', '2', '49', 'Aaron', 'White', 'PF', 'Washington', 'Wizards', 'Iowa', '(Sr.)', '2', '50', 'Marcus', 'Eriksson', 'SG', 'Atlanta', 'Hawks', 'FC', 'Barcelona', '(Spain)', '2', '51', 'Tyler', 'Harvey', 'PG', 'Orlando', 'Magic', 'Eastern', 'Washington', '(Jr.)', '2', '52', 'Satnam', 'Singh', 'Bhamara', 'C', 'Dallas', 'Mavericks', 'IMG', 'Academy', '(Bradenton,', 'Florida;', 'HSPg.)', '2', '53', \"Sir'Dominic\", 'Pointer', 'SF', 'Cleveland', 'Cavaliers', 'St.', \"John's\", '(Sr.)', '2', '54', 'Dani', 'Díez', 'SF', 'Utah', 'Jazz', 'Gipuzkoa', 'Basket', '(Spain)', '2', '55', 'Cady', 'Lalanne', 'PF', 'San', 'Antonio', 'Spurs', 'Massachusetts', '(Sr.)', '2', '56', 'Branden', 'Dawson', 'SF', 'New', 'Orleans', 'Pelicans', 'Michigan', 'State', '(Sr.)', '2', '57', 'Nikola', 'Radičević', 'PG', 'Denver', 'Nuggets', 'Baloncesto', 'Sevilla', '(Spain)', '2', '58', 'J.', 'P.', 'Tokoto#', 'SG/SF', 'Philadelphia', '76ers', 'North', 'Carolina', '(Jr.)', '2', '59', 'Dimitrios', 'Agravanis', 'PF', 'Atlanta', 'Hawks', 'Olympiacos', '(Greece)', '2', '60', 'Luka', 'Mitrović', 'PF', 'Philadelphia', '76ers', 'Red', 'Star', 'Belgrade', '(Serbia)']\n"
     ]
    },
    {
     "name": "stderr",
     "output_type": "stream",
     "text": [
      "/home/kevin/anaconda3/lib/python3.6/site-packages/bs4/__init__.py:181: UserWarning: No parser was explicitly specified, so I'm using the best available HTML parser for this system (\"lxml\"). This usually isn't a problem, but if you run this code on another system, or in a different virtual environment, it may use a different parser and behave differently.\n",
      "\n",
      "The code that caused this warning is on line 193 of the file /home/kevin/anaconda3/lib/python3.6/runpy.py. To get rid of this warning, change code that looks like this:\n",
      "\n",
      " BeautifulSoup(YOUR_MARKUP})\n",
      "\n",
      "to this:\n",
      "\n",
      " BeautifulSoup(YOUR_MARKUP, \"lxml\")\n",
      "\n",
      "  markup_type=markup_type))\n"
     ]
    }
   ],
   "source": [
    "season = 2015\n",
    "url = f\"https://nbahoopsonline.com/History/Leagues/NBA/drafts/{season}.html\"\n",
    "\n",
    "res = requests.get(url)\n",
    "dom = BeautifulSoup(res.text)\n",
    "dom.get_text()\n",
    "# find <pre> tag where table is stored\n",
    "\n",
    "\n",
    "selector = \"pre\"\n",
    "\n",
    "# get contents of <pre> tag as string \n",
    "table = dom.find(selector).get_text()\n",
    "table.strip()\n",
    "\n",
    "print(table.split())\n",
    "\n",
    "\n",
    "\n",
    "# table is array with long string\n",
    "# split up array by round\n",
    "\n"
   ]
  },
  {
   "cell_type": "code",
   "execution_count": null,
   "metadata": {},
   "outputs": [],
   "source": []
  },
  {
   "cell_type": "code",
   "execution_count": null,
   "metadata": {},
   "outputs": [],
   "source": []
  }
 ],
 "metadata": {
  "kernelspec": {
   "display_name": "Python 3",
   "language": "python",
   "name": "python3"
  },
  "language_info": {
   "codemirror_mode": {
    "name": "ipython",
    "version": 3
   },
   "file_extension": ".py",
   "mimetype": "text/x-python",
   "name": "python",
   "nbconvert_exporter": "python",
   "pygments_lexer": "ipython3",
   "version": "3.6.5"
  }
 },
 "nbformat": 4,
 "nbformat_minor": 2
}
