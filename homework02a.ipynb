{
 "cells": [
  {
   "cell_type": "markdown",
   "metadata": {},
   "source": [
    "# NBA Player Data\n",
    "\n",
    "### One .csv from:\n",
    "https://www.kaggle.com/drgilermo/nba-players-stats\n",
    "\n",
    "### Data collected by Omri Goldstein from Kaggle with 162 votes by the community. He scraped this from basketball-reference.com.\n",
    "\n",
    "### Data Contents: NBA Player Stats from 1950-2017\n",
    "\n",
    "\n",
    "* Seasons_Stats.csv: Very detailed season stats for every NBA player. Describes important game statistics as column headers including: \n",
    "\n",
    "    Team, games, games started, minutes played, player efficiency rating, true shooting percent, 3 point attempt rate, free throw rate, offensive rebound percentage, etc. \n",
    "    \n",
    "    Size - 24.7k x 53\n",
    "\n",
    "\n"
   ]
  },
  {
   "cell_type": "markdown",
   "metadata": {},
   "source": [
    "# Why this dataset?\n",
    "\n",
    "## These datasets are required to answer the following questions\n",
    "\n",
    "\n",
    "# Questions:\n",
    "* How have injuries impacted player performance?\n",
    " \n",
    "    * Do they perform the same or worse after returning?\n",
    "    * Case study: Grant Hill, hall of famer remembered for a knee injury that plagued his career. \n",
    "    \n",
    "* How do Lebron James' stats reflect his age? Is Lebron slowing down with age, staying the same, or is he getting even better? \n",
    "\n"
   ]
  },
  {
   "cell_type": "markdown",
   "metadata": {},
   "source": []
  },
  {
   "cell_type": "code",
   "execution_count": 37,
   "metadata": {},
   "outputs": [],
   "source": [
    "import pandas as pd \n",
    "import numpy as np\n",
    "import matplotlib.pyplot as plt\n",
    "from functools import reduce\n"
   ]
  },
  {
   "cell_type": "code",
   "execution_count": 38,
   "metadata": {},
   "outputs": [],
   "source": [
    "season_stats = pd.read_csv(\"nba-players-stats/Seasons_Stats.csv\")"
   ]
  },
  {
   "cell_type": "code",
   "execution_count": 39,
   "metadata": {},
   "outputs": [
    {
     "data": {
      "text/html": [
       "<div>\n",
       "<style scoped>\n",
       "    .dataframe tbody tr th:only-of-type {\n",
       "        vertical-align: middle;\n",
       "    }\n",
       "\n",
       "    .dataframe tbody tr th {\n",
       "        vertical-align: top;\n",
       "    }\n",
       "\n",
       "    .dataframe thead th {\n",
       "        text-align: right;\n",
       "    }\n",
       "</style>\n",
       "<table border=\"1\" class=\"dataframe\">\n",
       "  <thead>\n",
       "    <tr style=\"text-align: right;\">\n",
       "      <th></th>\n",
       "      <th>Unnamed: 0</th>\n",
       "      <th>Year</th>\n",
       "      <th>Player</th>\n",
       "      <th>Pos</th>\n",
       "      <th>Age</th>\n",
       "      <th>Tm</th>\n",
       "      <th>G</th>\n",
       "      <th>GS</th>\n",
       "      <th>MP</th>\n",
       "      <th>PER</th>\n",
       "      <th>...</th>\n",
       "      <th>FT%</th>\n",
       "      <th>ORB</th>\n",
       "      <th>DRB</th>\n",
       "      <th>TRB</th>\n",
       "      <th>AST</th>\n",
       "      <th>STL</th>\n",
       "      <th>BLK</th>\n",
       "      <th>TOV</th>\n",
       "      <th>PF</th>\n",
       "      <th>PTS</th>\n",
       "    </tr>\n",
       "  </thead>\n",
       "  <tbody>\n",
       "    <tr>\n",
       "      <th>0</th>\n",
       "      <td>0</td>\n",
       "      <td>1950.0</td>\n",
       "      <td>Curly Armstrong</td>\n",
       "      <td>G-F</td>\n",
       "      <td>31.0</td>\n",
       "      <td>FTW</td>\n",
       "      <td>63.0</td>\n",
       "      <td>NaN</td>\n",
       "      <td>NaN</td>\n",
       "      <td>NaN</td>\n",
       "      <td>...</td>\n",
       "      <td>0.705</td>\n",
       "      <td>NaN</td>\n",
       "      <td>NaN</td>\n",
       "      <td>NaN</td>\n",
       "      <td>176.0</td>\n",
       "      <td>NaN</td>\n",
       "      <td>NaN</td>\n",
       "      <td>NaN</td>\n",
       "      <td>217.0</td>\n",
       "      <td>458.0</td>\n",
       "    </tr>\n",
       "    <tr>\n",
       "      <th>1</th>\n",
       "      <td>1</td>\n",
       "      <td>1950.0</td>\n",
       "      <td>Cliff Barker</td>\n",
       "      <td>SG</td>\n",
       "      <td>29.0</td>\n",
       "      <td>INO</td>\n",
       "      <td>49.0</td>\n",
       "      <td>NaN</td>\n",
       "      <td>NaN</td>\n",
       "      <td>NaN</td>\n",
       "      <td>...</td>\n",
       "      <td>0.708</td>\n",
       "      <td>NaN</td>\n",
       "      <td>NaN</td>\n",
       "      <td>NaN</td>\n",
       "      <td>109.0</td>\n",
       "      <td>NaN</td>\n",
       "      <td>NaN</td>\n",
       "      <td>NaN</td>\n",
       "      <td>99.0</td>\n",
       "      <td>279.0</td>\n",
       "    </tr>\n",
       "    <tr>\n",
       "      <th>2</th>\n",
       "      <td>2</td>\n",
       "      <td>1950.0</td>\n",
       "      <td>Leo Barnhorst</td>\n",
       "      <td>SF</td>\n",
       "      <td>25.0</td>\n",
       "      <td>CHS</td>\n",
       "      <td>67.0</td>\n",
       "      <td>NaN</td>\n",
       "      <td>NaN</td>\n",
       "      <td>NaN</td>\n",
       "      <td>...</td>\n",
       "      <td>0.698</td>\n",
       "      <td>NaN</td>\n",
       "      <td>NaN</td>\n",
       "      <td>NaN</td>\n",
       "      <td>140.0</td>\n",
       "      <td>NaN</td>\n",
       "      <td>NaN</td>\n",
       "      <td>NaN</td>\n",
       "      <td>192.0</td>\n",
       "      <td>438.0</td>\n",
       "    </tr>\n",
       "    <tr>\n",
       "      <th>3</th>\n",
       "      <td>3</td>\n",
       "      <td>1950.0</td>\n",
       "      <td>Ed Bartels</td>\n",
       "      <td>F</td>\n",
       "      <td>24.0</td>\n",
       "      <td>TOT</td>\n",
       "      <td>15.0</td>\n",
       "      <td>NaN</td>\n",
       "      <td>NaN</td>\n",
       "      <td>NaN</td>\n",
       "      <td>...</td>\n",
       "      <td>0.559</td>\n",
       "      <td>NaN</td>\n",
       "      <td>NaN</td>\n",
       "      <td>NaN</td>\n",
       "      <td>20.0</td>\n",
       "      <td>NaN</td>\n",
       "      <td>NaN</td>\n",
       "      <td>NaN</td>\n",
       "      <td>29.0</td>\n",
       "      <td>63.0</td>\n",
       "    </tr>\n",
       "    <tr>\n",
       "      <th>4</th>\n",
       "      <td>4</td>\n",
       "      <td>1950.0</td>\n",
       "      <td>Ed Bartels</td>\n",
       "      <td>F</td>\n",
       "      <td>24.0</td>\n",
       "      <td>DNN</td>\n",
       "      <td>13.0</td>\n",
       "      <td>NaN</td>\n",
       "      <td>NaN</td>\n",
       "      <td>NaN</td>\n",
       "      <td>...</td>\n",
       "      <td>0.548</td>\n",
       "      <td>NaN</td>\n",
       "      <td>NaN</td>\n",
       "      <td>NaN</td>\n",
       "      <td>20.0</td>\n",
       "      <td>NaN</td>\n",
       "      <td>NaN</td>\n",
       "      <td>NaN</td>\n",
       "      <td>27.0</td>\n",
       "      <td>59.0</td>\n",
       "    </tr>\n",
       "  </tbody>\n",
       "</table>\n",
       "<p>5 rows × 53 columns</p>\n",
       "</div>"
      ],
      "text/plain": [
       "   Unnamed: 0    Year           Player  Pos   Age   Tm     G  GS  MP  PER  \\\n",
       "0           0  1950.0  Curly Armstrong  G-F  31.0  FTW  63.0 NaN NaN  NaN   \n",
       "1           1  1950.0     Cliff Barker   SG  29.0  INO  49.0 NaN NaN  NaN   \n",
       "2           2  1950.0    Leo Barnhorst   SF  25.0  CHS  67.0 NaN NaN  NaN   \n",
       "3           3  1950.0       Ed Bartels    F  24.0  TOT  15.0 NaN NaN  NaN   \n",
       "4           4  1950.0       Ed Bartels    F  24.0  DNN  13.0 NaN NaN  NaN   \n",
       "\n",
       "   ...      FT%  ORB  DRB  TRB    AST  STL  BLK  TOV     PF    PTS  \n",
       "0  ...    0.705  NaN  NaN  NaN  176.0  NaN  NaN  NaN  217.0  458.0  \n",
       "1  ...    0.708  NaN  NaN  NaN  109.0  NaN  NaN  NaN   99.0  279.0  \n",
       "2  ...    0.698  NaN  NaN  NaN  140.0  NaN  NaN  NaN  192.0  438.0  \n",
       "3  ...    0.559  NaN  NaN  NaN   20.0  NaN  NaN  NaN   29.0   63.0  \n",
       "4  ...    0.548  NaN  NaN  NaN   20.0  NaN  NaN  NaN   27.0   59.0  \n",
       "\n",
       "[5 rows x 53 columns]"
      ]
     },
     "execution_count": 39,
     "metadata": {},
     "output_type": "execute_result"
    }
   ],
   "source": [
    "season_stats.head()"
   ]
  },
  {
   "cell_type": "markdown",
   "metadata": {},
   "source": [
    "# Cleaning:\n",
    "\n",
    "* Problems: Some entries are NaN for a few reasons. Some stats didn't exist in certain years, eg. 3 pointers weren't added until '79. In other years, certain stats (TOV, ORB, DRB, etc) were just simply not recorded. For these entries, the csv records null. \n",
    "\n",
    "\n",
    "* This problem only applies to \"antique\" player records. We do not have this entry discrepency with modern players. "
   ]
  },
  {
   "cell_type": "markdown",
   "metadata": {},
   "source": [
    "# Question 1 - How have injuries impacted player performance?\n",
    "\n",
    "## Starting with a given player, find the year when their injury happened and look at some essential stats:\n",
    "* G: Games\n",
    "* MP: Minutes Played\n",
    "* PER: Player Efficiency Rating\n",
    "    * This is the official \"all in one basketball rating, which attempts to boil down all of a player's contributions into one number\" - (https://en.wikipedia.org/wiki/Player_efficiency_rating)\n",
    "\n",
    "\n"
   ]
  },
  {
   "cell_type": "markdown",
   "metadata": {},
   "source": [
    "# The Case of Grant Hill\n",
    "\n",
    "* The years we're interested in are his full, healthy seasons before injury: 1995-2001 and his seasons after: 2002-2013\n",
    "\n",
    "## First, we will examine his PER. "
   ]
  },
  {
   "cell_type": "code",
   "execution_count": 40,
   "metadata": {},
   "outputs": [],
   "source": [
    "# Collect averages of a given stat between the given years\n",
    "# stat parameter should be given a stat that is calculatable, i.e floats and integers only\n",
    "def average_stats(player_name, dataframe, stat, year_start, year_end):\n",
    "    \n",
    "    if(np.issubdtype(dataframe[stat].dtype, np.number)):\n",
    "        \n",
    "    \n",
    "        #return dataframe of a given player_name\n",
    "        player_stats = dataframe.loc[dataframe[\"Player\"] == player_name] \n",
    "\n",
    "\n",
    "        #get range of rows of desired year onwards\n",
    "        player_stats_year = player_stats[(player_stats[\"Year\"] >= year_start) & (player_stats[\"Year\"] <= year_end)] \n",
    "\n",
    "\n",
    "        #get all rows of the 'stat' parameter column \n",
    "        stat_values = player_stats_year.loc[:, stat] \n",
    "\n",
    "        average = reduce((lambda x, y: x + y), stat_values)/ len(stat_values)\n",
    "    else:\n",
    "        return \"Error: Select a column that consists of numbers. \"\n",
    "    \n",
    "    print (f'{average} is {player_name}\\'s average {stat} score between {year_start} to {year_end}.')\n",
    "    \n",
    "    return average\n",
    "\n",
    "    \n",
    "    \n",
    "    \n",
    "        "
   ]
  },
  {
   "cell_type": "code",
   "execution_count": 41,
   "metadata": {},
   "outputs": [
    {
     "name": "stdout",
     "output_type": "stream",
     "text": [
      "21.87142857142857 is Grant Hill's average PER score between 1995 to 2001.\n",
      "15.409090909090908 is Grant Hill's average PER score between 2002 to 2013.\n"
     ]
    }
   ],
   "source": [
    "beforeInjury = average_stats(\"Grant Hill\", season_stats, \"PER\", 1995, 2001)\n",
    "afterInjury = average_stats(\"Grant Hill\", season_stats, \"PER\", 2002, 2013)\n",
    "injury_impact = beforeInjury - afterInjury\n",
    "\n"
   ]
  },
  {
   "cell_type": "markdown",
   "metadata": {},
   "source": [
    "## Secondly, we'll look at his Games played and Minutes played\n",
    "* 2 important stats that can serve as a general indicator of a player's consistency and overall fitness. "
   ]
  },
  {
   "cell_type": "code",
   "execution_count": 42,
   "metadata": {},
   "outputs": [],
   "source": [
    "# *years contains tuple of years where indices 0,1 are years before injury and 2,3 years after\n",
    "def injury_impact(player_name, stat, *years):\n",
    "    \n",
    "    before = average_stats(player_name, season_stats, stat, years[0], years[1])\n",
    "    after = average_stats(player_name, season_stats, stat, years[2], years[3])\n",
    "    \n",
    "    injury_impact = before - after\n",
    "    \n",
    "    if(injury_impact < 0):\n",
    "        return f'The impact of injury is: {injury_impact}. Fortunately, this player has improved after injury.'\n",
    "         \n",
    "    else:\n",
    "        return f'The impact of injury is: {injury_impact}. Unfortunately, this player has declined after injury.'\n"
   ]
  },
  {
   "cell_type": "code",
   "execution_count": 43,
   "metadata": {},
   "outputs": [
    {
     "name": "stdout",
     "output_type": "stream",
     "text": [
      "62.714285714285715 is Grant Hill's average G score between 1995 to 2001.\n",
      "53.36363636363637 is Grant Hill's average G score between 2002 to 2013.\n",
      "The impact of injury is: 9.350649350649348. Unfortunately, this player has declined after injury.\n",
      "\n",
      "\n",
      "\n",
      "21.87142857142857 is Grant Hill's average PER score between 1995 to 2001.\n",
      "15.409090909090908 is Grant Hill's average PER score between 2002 to 2013.\n",
      "The impact of injury is: 6.462337662337662. Unfortunately, this player has declined after injury.\n"
     ]
    }
   ],
   "source": [
    "print(injury_impact(\"Grant Hill\", \"G\", 1995, 2001, 2002, 2013))\n",
    "print('\\n\\n')\n",
    "print(injury_impact(\"Grant Hill\", \"PER\", 1995, 2001, 2002, 2013))"
   ]
  },
  {
   "cell_type": "markdown",
   "metadata": {},
   "source": [
    "# Conclusion to Q1:\n",
    "* Both Grant Hill's average PER and G/MP declined after the year 2001, which is when his injury happened. \n",
    "* While this code doesn't take into account other factors that can affect these 3 stats, such as age, team changes, position changes, etc, it can give us a general idea of the impact of his injury on his NBA career.\n",
    "* The functions used to answer Q1 can be used to analyze other players  by adjusting the parameters. "
   ]
  },
  {
   "cell_type": "markdown",
   "metadata": {},
   "source": [
    "# Question 2 - Do Lebron James' stats reflect his age? Is Lebron slowing down with age, staying the same, or is he getting even better? \n",
    "\n",
    "\n",
    "* Key stats to look for: \n",
    "    Games (G), Games Started (GS), Minutes Played (MP), PER, effective field goal percentage (eFG%), PTS (points per season), AST (assists per season), STL (steals per season), BLK (blocks per season)\n",
    "    \n",
    "* Method: Examine these stats for each year. If needed, compare them to __career averages__. "
   ]
  },
  {
   "cell_type": "code",
   "execution_count": 44,
   "metadata": {},
   "outputs": [
    {
     "name": "stdout",
     "output_type": "stream",
     "text": [
      "75.78571428571429 is LeBron James's average G score between 2003 to 2017.\n"
     ]
    },
    {
     "data": {
      "text/plain": [
       "<matplotlib.lines.Line2D at 0x7f651d2d4780>"
      ]
     },
     "execution_count": 44,
     "metadata": {},
     "output_type": "execute_result"
    },
    {
     "data": {
      "image/png": "[encoded data removed]",
      "text/plain": [
       "<Figure size 432x288 with 1 Axes>"
      ]
     },
     "metadata": {},
     "output_type": "display_data"
    }
   ],
   "source": [
    "# Plot age against Games played\n",
    "\n",
    "lebron_stats = season_stats.loc[season_stats[\"Player\"] == \"LeBron James\"]\n",
    "plt.figure()\n",
    "\n",
    "# Get current axis to use for additional axis ax keyword arg\n",
    "ax = plt.gca() \n",
    "averageG = average_stats(\"LeBron James\", lebron_stats, \"G\", 2003, 2017) #career average, not average of other players\n",
    "\n",
    "# Plot G and GS over eachother\n",
    "lebron_stats.plot(kind = 'line', x = \"Age\", y = \"G\", ax = ax)\n",
    "lebron_stats.plot(kind = 'line', x = \"Age\", y = \"GS\", ax = ax)\n",
    "\n",
    "plt.axhline(averageG, color = 'r', linestyle = \"--\")\n",
    "\n",
    "prin"
   ]
  },
  {
   "cell_type": "markdown",
   "metadata": {},
   "source": [
    "## First impressions: \n",
    "* By overlaying his games started over games, with respect to age, we can see that age has __not__ affected his ability to play on the starting 5. In other words, age has not caused him to be benched in favor of younger players.\n",
    "* However, he is currently playing __fewer games per season than average__."
   ]
  },
  {
   "cell_type": "markdown",
   "metadata": {},
   "source": [
    "## Minutes Played\n",
    "* We see LeBron's MP dip __below__ his average as he ages. "
   ]
  },
  {
   "cell_type": "code",
   "execution_count": 45,
   "metadata": {},
   "outputs": [
    {
     "name": "stdout",
     "output_type": "stream",
     "text": [
      "2948.0 is LeBron James's average MP score between 2003 to 2017.\n"
     ]
    },
    {
     "data": {
      "text/plain": [
       "<matplotlib.lines.Line2D at 0x7f651d29af28>"
      ]
     },
     "execution_count": 45,
     "metadata": {},
     "output_type": "execute_result"
    },
    {
     "data": {
      "image/png": "[encoded data removed]",
      "text/plain": [
       "<Figure size 432x288 with 1 Axes>"
      ]
     },
     "metadata": {},
     "output_type": "display_data"
    }
   ],
   "source": [
    "plt.figure()\n",
    "ax = plt.gca()\n",
    "\n",
    "lebron_stats.plot(kind = \"line\", x = \"Age\", y = \"MP\", ax = ax)\n",
    "\n",
    "#Overlay average minutes played with this graph\n",
    "\n",
    "averageMP = average_stats(\"LeBron James\", lebron_stats, \"MP\", 2003, 2017)\n",
    "\n",
    "plt.axhline(averageMP, color = 'r', linestyle = '--' )"
   ]
  },
  {
   "cell_type": "markdown",
   "metadata": {},
   "source": [
    "# Performance efficiency rating\n",
    "* LeBron has been quite consistent with his PER, apart from the outliers from his rookie years, he has __maintained a PER at or above his average.__"
   ]
  },
  {
   "cell_type": "code",
   "execution_count": 46,
   "metadata": {},
   "outputs": [
    {
     "name": "stdout",
     "output_type": "stream",
     "text": [
      "27.699999999999996 is LeBron James's average PER score between 2003 to 2017.\n"
     ]
    },
    {
     "data": {
      "text/plain": [
       "<matplotlib.lines.Line2D at 0x7f651d2755f8>"
      ]
     },
     "execution_count": 46,
     "metadata": {},
     "output_type": "execute_result"
    },
    {
     "data": {
      "image/png": "[encoded data removed]",
      "text/plain": [
       "<Figure size 432x288 with 1 Axes>"
      ]
     },
     "metadata": {},
     "output_type": "display_data"
    }
   ],
   "source": [
    "lebron_stats.plot(kind = 'line', x = \"Age\", y = \"PER\")\n",
    "averagePER = average_stats(\"LeBron James\", lebron_stats, \"PER\", 2003, 2017)\n",
    "plt.axhline(averagePER, color = 'r', linestyle = '--' )"
   ]
  },
  {
   "cell_type": "markdown",
   "metadata": {},
   "source": [
    "# eFG%:\n",
    "* In recent years, LeBron has __exceeded or matched__ his average eFG%."
   ]
  },
  {
   "cell_type": "code",
   "execution_count": 47,
   "metadata": {},
   "outputs": [
    {
     "name": "stdout",
     "output_type": "stream",
     "text": [
      "0.5389285714285715 is LeBron James's average eFG% score between 2003 to 2017.\n"
     ]
    },
    {
     "data": {
      "text/plain": [
       "<matplotlib.lines.Line2D at 0x7f651d1d7710>"
      ]
     },
     "execution_count": 47,
     "metadata": {},
     "output_type": "execute_result"
    },
    {
     "data": {
      "image/png": "[encoded data removed]",
      "text/plain": [
       "<Figure size 432x288 with 1 Axes>"
      ]
     },
     "metadata": {},
     "output_type": "display_data"
    }
   ],
   "source": [
    "lebron_stats.plot(kind = 'line', x = \"Age\", y = \"eFG%\")\n",
    "averageEFG = average_stats(\"LeBron James\", lebron_stats, \"eFG%\", 2003, 2017)\n",
    "\n",
    "# plot average against trend\n",
    "plt.axhline(averageEFG, color = 'r', linestyle = '--' )"
   ]
  },
  {
   "cell_type": "markdown",
   "metadata": {},
   "source": [
    "# Points, assists, steals, blocks\n",
    "* Plot points and assists separately due to higher value ranges\n",
    "* We observe that his points, steals, and blocks are __below career average__ in recent years. \n",
    "* However, his assists are currently __above average__."
   ]
  },
  {
   "cell_type": "code",
   "execution_count": 48,
   "metadata": {},
   "outputs": [
    {
     "name": "stdout",
     "output_type": "stream",
     "text": [
      "124.92857142857143 is LeBron James's average STL score between 2003 to 2017.\n",
      "58.357142857142854 is LeBron James's average BLK score between 2003 to 2017.\n"
     ]
    },
    {
     "data": {
      "text/plain": [
       "<matplotlib.lines.Line2D at 0x7f651d184198>"
      ]
     },
     "execution_count": 48,
     "metadata": {},
     "output_type": "execute_result"
    },
    {
     "data": {
      "image/png": "[encoded data removed]",
      "text/plain": [
       "<Figure size 432x288 with 1 Axes>"
      ]
     },
     "metadata": {},
     "output_type": "display_data"
    }
   ],
   "source": [
    "ax = plt.gca()\n",
    "\n",
    "lebron_stats.plot(kind = \"line\", x = \"Age\", y = \"STL\", ax=ax)\n",
    "averageSTL = average_stats(\"LeBron James\", lebron_stats, \"STL\", 2003, 2017)\n",
    "\n",
    "lebron_stats.plot(kind = \"line\", x = \"Age\", y = \"BLK\", ax=ax)\n",
    "averageBLK = average_stats(\"LeBron James\", lebron_stats, \"BLK\", 2003, 2017)\n",
    "\n",
    "# plot average against trend\n",
    "plt.axhline(averageSTL, color = \"g\", linestyle = \"--\")\n",
    "plt.axhline(averageBLK, color = \"r\", linestyle = \"--\")"
   ]
  },
  {
   "cell_type": "code",
   "execution_count": 49,
   "metadata": {},
   "outputs": [
    {
     "name": "stdout",
     "output_type": "stream",
     "text": [
      "532.9285714285714 is LeBron James's average AST score between 2003 to 2017.\n"
     ]
    },
    {
     "data": {
      "text/plain": [
       "<matplotlib.lines.Line2D at 0x7f651d4ec898>"
      ]
     },
     "execution_count": 49,
     "metadata": {},
     "output_type": "execute_result"
    },
    {
     "data": {
      "image/png": "[encoded data removed]",
      "text/plain": [
       "<Figure size 432x288 with 1 Axes>"
      ]
     },
     "metadata": {},
     "output_type": "display_data"
    }
   ],
   "source": [
    "lebron_stats.plot(kind = \"line\", x = \"Age\", y = \"AST\")\n",
    "averageAST = average_stats(\"LeBron James\", lebron_stats, \"AST\", 2003, 2017)\n",
    "\n",
    "plt.axhline(averageAST, color = 'r', linestyle = \"--\")"
   ]
  },
  {
   "cell_type": "code",
   "execution_count": 50,
   "metadata": {},
   "outputs": [
    {
     "name": "stdout",
     "output_type": "stream",
     "text": [
      "2056.214285714286 is LeBron James's average PTS score between 2003 to 2017.\n"
     ]
    },
    {
     "data": {
      "text/plain": [
       "<matplotlib.lines.Line2D at 0x7f651d060c88>"
      ]
     },
     "execution_count": 50,
     "metadata": {},
     "output_type": "execute_result"
    },
    {
     "data": {
      "image/png": "[encoded data removed]",
      "text/plain": [
       "<Figure size 432x288 with 1 Axes>"
      ]
     },
     "metadata": {},
     "output_type": "display_data"
    }
   ],
   "source": [
    "lebron_stats.plot(kind = \"line\", x = \"Age\", y = \"PTS\")\n",
    "averagePTS = average_stats(\"LeBron James\", lebron_stats, \"PTS\", 2003, 2017)\n",
    "\n",
    "plt.axhline(averagePTS, color = 'r', linestyle = \"--\")"
   ]
  },
  {
   "cell_type": "markdown",
   "metadata": {},
   "source": [
    "# Conclusion to Q2:\n",
    "* By plotting LeBron's stat trend against age, we are able to conclude that the following stats have __improved or stayed the same__ with age.\n",
    "    * PER, eFG%, AST\n",
    "* However, some stats have definitely __fallen off__ with age: \n",
    "    * MP, G, PTS, STL, BLK\n",
    "    \n",
    "## Has age caused LeBron to decline? \n",
    "* Yes, in some aspects. However, he has improved in both PER and eFG%, both of which are significant stats that cannot be ignored."
   ]
  },
  {
   "cell_type": "markdown",
   "metadata": {},
   "source": [
    "# Validate Calculations\n",
    "## The only descriptive statistics I did was find the mean of certain player stats. \n",
    "* These player stats were: PER, eFG%, AST, MP, G, GS, PTS, STL, BLK\n",
    "\n",
    "### Validation Method:\n",
    "* I will export the NBA dataset to excel, find the mean, and compare to my own. \n",
    "\n",
    "Excel Averages: \n",
    "* G = 75.78\n",
    "* GS = 75.71\n",
    "* MP = 2948\n",
    "* PER = 27.7\n",
    "* PTS = 2056.214\n",
    "\n",
    "----My calculations match up-----\n",
    "\n",
    "I only calculated these few player stats because Google Sheets is not column labeled, and my dataset has over 50 columns. It's hard to identify which column represents which player stat. The averages of my program are accurate to the spreadsheets. "
   ]
  },
  {
   "cell_type": "code",
   "execution_count": null,
   "metadata": {},
   "outputs": [],
   "source": []
  }
 ],
 "metadata": {
  "kernelspec": {
   "display_name": "Python 3",
   "language": "python",
   "name": "python3"
  },
  "language_info": {
   "codemirror_mode": {
    "name": "ipython",
    "version": 3
   },
   "file_extension": ".py",
   "mimetype": "text/x-python",
   "name": "python",
   "nbconvert_exporter": "python",
   "pygments_lexer": "ipython3",
   "version": "3.6.5"
  }
 },
 "nbformat": 4,
 "nbformat_minor": 2
}
