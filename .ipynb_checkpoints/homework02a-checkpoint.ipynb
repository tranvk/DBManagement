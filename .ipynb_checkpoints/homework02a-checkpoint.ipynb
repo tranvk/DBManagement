{
 "cells": [
  {
   "cell_type": "markdown",
   "metadata": {},
   "source": [
    "# NBA Player Data\n",
    "\n",
    "## 3 .csv files from:\n",
    "https://www.kaggle.com/drgilermo/nba-players-stats\n",
    "\n",
    "### Data collected by Omri Goldstein from Kaggle with 162 votes. Scraped from basketball-reference.com.\n",
    "\n",
    "### Data Contents:\n",
    "* player_data.csv: Column split csv with information about individual players. Columns: name, year_start, year_end, position, height, weight, birth_date, college. 8 header columns. Size: 4551 x 8\n",
    "\n",
    "* Players.csv: Detailed information personal about player - height, weight, college, birthdate, birth_city, birth_state. Size: 3923 x 8\n",
    "\n",
    "* Seasons_Stats.csv: Very detailed season stats for a given player. Describes important game statistics including: Team, games, games started, minutes played, player efficiency rating, true shooting percent, 3 point attempt rate, free throw rate, offensive rebound percentage, etc. Size - 24.7k x 53\n",
    "\n",
    "\n",
    "# 1 dataset scraped by me from: \n",
    "https://stats.nba.com/draft/history/?Season={Season}\n",
    "\n",
    "## Where {Season} is year in range 2007 - 2017\n"
   ]
  },
  {
   "cell_type": "markdown",
   "metadata": {},
   "source": [
    "# Why this dataset?\n",
    "\n",
    "## These datasets are required to answer the following questions\n",
    "\n",
    "\n",
    "# Questions:\n",
    "* How does draft order affect success? Look at top 3 draft picks for each year and analyze how they are currently playing.\n",
    "* How do Lebron's stats look? Is Lebron slowing down with age or is he getting better? Are other players his age able to keep up?\n",
    "* Rookies: Which 1st round picks from the past years draft classes played the most games? Were they starters or benched for their first year? "
   ]
  },
  {
   "cell_type": "markdown",
   "metadata": {},
   "source": [
    "# Scrape NBA draft data"
   ]
  },
  {
   "cell_type": "code",
   "execution_count": 1,
   "metadata": {},
   "outputs": [],
   "source": [
    "import re\n",
    "import requests\n",
    "import pandas as pd\n",
    "from bs4 import BeautifulSoup as bs"
   ]
  },
  {
   "cell_type": "code",
   "execution_count": null,
   "metadata": {},
   "outputs": [],
   "source": [
    "season = 2007\n",
    "url = f\"https://stats.nba.com/draft/history/?Season={Season}\"\n"
   ]
  }
 ],
 "metadata": {
  "kernelspec": {
   "display_name": "Python 3",
   "language": "python",
   "name": "python3"
  },
  "language_info": {
   "codemirror_mode": {
    "name": "ipython",
    "version": 3
   },
   "file_extension": ".py",
   "mimetype": "text/x-python",
   "name": "python",
   "nbconvert_exporter": "python",
   "pygments_lexer": "ipython3",
   "version": "3.6.5"
  }
 },
 "nbformat": 4,
 "nbformat_minor": 2
}
