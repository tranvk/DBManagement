{
 "cells": [
  {
   "cell_type": "markdown",
   "metadata": {},
   "source": [
    "# NBA Player Data\n",
    "\n",
    "### One .csv from:\n",
    "https://www.kaggle.com/drgilermo/nba-players-stats\n",
    "\n",
    "### Data collected by Omri Goldstein from Kaggle with 162 votes by the community. He scraped this from basketball-reference.com.\n",
    "\n",
    "### Data Contents: NBA Player Stats from 1950-2017\n",
    "\n",
    "\n",
    "* Seasons_Stats.csv: Very detailed season stats for every NBA player. Describes important game statistics as column headers including: \n",
    "\n",
    "    Team, games, games started, minutes played, player efficiency rating, true shooting percent, 3 point attempt rate, free throw rate, offensive rebound percentage, etc. \n",
    "    \n",
    "    Size - 24.7k x 53\n",
    "\n",
    "\n"
   ]
  },
  {
   "cell_type": "markdown",
   "metadata": {},
   "source": [
    "# Why this dataset?\n",
    "\n",
    "## These datasets are required to answer the following questions\n",
    "\n",
    "\n",
    "# Questions:\n",
    "* How have injuries impacted player performance?\n",
    " \n",
    "    * Do they perform the same or worse after returning?\n",
    "    * Case study: Grant Hill, hall of famer remembered for a knee injury that plagued his career. \n",
    "    \n",
    "* How do Lebron James' stats reflect his age? Is Lebron slowing down with age, staying the same, or is he getting even better? \n",
    "\n"
   ]
  },
  {
   "cell_type": "markdown",
   "metadata": {},
   "source": []
  },
  {
   "cell_type": "code",
   "execution_count": 173,
   "metadata": {},
   "outputs": [
    {
     "data": {
      "text/plain": [
       "[OrderedDict([('', '0'),\n",
       "              ('Year', '1950'),\n",
       "              ('Player', 'Curly Armstrong'),\n",
       "              ('Pos', 'G-F'),\n",
       "              ('Age', '31'),\n",
       "              ('Tm', 'FTW'),\n",
       "              ('G', '63'),\n",
       "              ('GS', ''),\n",
       "              ('MP', ''),\n",
       "              ('PER', ''),\n",
       "              ('TS%', '0.368'),\n",
       "              ('3PAr', ''),\n",
       "              ('FTr', '0.467'),\n",
       "              ('ORB%', ''),\n",
       "              ('DRB%', ''),\n",
       "              ('TRB%', ''),\n",
       "              ('AST%', ''),\n",
       "              ('STL%', ''),\n",
       "              ('BLK%', ''),\n",
       "              ('TOV%', ''),\n",
       "              ('USG%', ''),\n",
       "              ('blanl', ''),\n",
       "              ('OWS', '-0.1'),\n",
       "              ('DWS', '3.6'),\n",
       "              ('WS', '3.5'),\n",
       "              ('WS/48', ''),\n",
       "              ('blank2', ''),\n",
       "              ('OBPM', ''),\n",
       "              ('DBPM', ''),\n",
       "              ('BPM', ''),\n",
       "              ('VORP', ''),\n",
       "              ('FG', '144'),\n",
       "              ('FGA', '516'),\n",
       "              ('FG%', '0.279'),\n",
       "              ('3P', ''),\n",
       "              ('3PA', ''),\n",
       "              ('3P%', ''),\n",
       "              ('2P', '144'),\n",
       "              ('2PA', '516'),\n",
       "              ('2P%', '0.279'),\n",
       "              ('eFG%', '0.279'),\n",
       "              ('FT', '170'),\n",
       "              ('FTA', '241'),\n",
       "              ('FT%', '0.705'),\n",
       "              ('ORB', ''),\n",
       "              ('DRB', ''),\n",
       "              ('TRB', ''),\n",
       "              ('AST', '176'),\n",
       "              ('STL', ''),\n",
       "              ('BLK', ''),\n",
       "              ('TOV', ''),\n",
       "              ('PF', '217'),\n",
       "              ('PTS', '458')]),\n",
       " OrderedDict([('', '1'),\n",
       "              ('Year', '1950'),\n",
       "              ('Player', 'Cliff Barker'),\n",
       "              ('Pos', 'SG'),\n",
       "              ('Age', '29'),\n",
       "              ('Tm', 'INO'),\n",
       "              ('G', '49'),\n",
       "              ('GS', ''),\n",
       "              ('MP', ''),\n",
       "              ('PER', ''),\n",
       "              ('TS%', '0.435'),\n",
       "              ('3PAr', ''),\n",
       "              ('FTr', '0.387'),\n",
       "              ('ORB%', ''),\n",
       "              ('DRB%', ''),\n",
       "              ('TRB%', ''),\n",
       "              ('AST%', ''),\n",
       "              ('STL%', ''),\n",
       "              ('BLK%', ''),\n",
       "              ('TOV%', ''),\n",
       "              ('USG%', ''),\n",
       "              ('blanl', ''),\n",
       "              ('OWS', '1.6'),\n",
       "              ('DWS', '0.6'),\n",
       "              ('WS', '2.2'),\n",
       "              ('WS/48', ''),\n",
       "              ('blank2', ''),\n",
       "              ('OBPM', ''),\n",
       "              ('DBPM', ''),\n",
       "              ('BPM', ''),\n",
       "              ('VORP', ''),\n",
       "              ('FG', '102'),\n",
       "              ('FGA', '274'),\n",
       "              ('FG%', '0.372'),\n",
       "              ('3P', ''),\n",
       "              ('3PA', ''),\n",
       "              ('3P%', ''),\n",
       "              ('2P', '102'),\n",
       "              ('2PA', '274'),\n",
       "              ('2P%', '0.372'),\n",
       "              ('eFG%', '0.372'),\n",
       "              ('FT', '75'),\n",
       "              ('FTA', '106'),\n",
       "              ('FT%', '0.708'),\n",
       "              ('ORB', ''),\n",
       "              ('DRB', ''),\n",
       "              ('TRB', ''),\n",
       "              ('AST', '109'),\n",
       "              ('STL', ''),\n",
       "              ('BLK', ''),\n",
       "              ('TOV', ''),\n",
       "              ('PF', '99'),\n",
       "              ('PTS', '279')]),\n",
       " OrderedDict([('', '2'),\n",
       "              ('Year', '1950'),\n",
       "              ('Player', 'Leo Barnhorst'),\n",
       "              ('Pos', 'SF'),\n",
       "              ('Age', '25'),\n",
       "              ('Tm', 'CHS'),\n",
       "              ('G', '67'),\n",
       "              ('GS', ''),\n",
       "              ('MP', ''),\n",
       "              ('PER', ''),\n",
       "              ('TS%', '0.394'),\n",
       "              ('3PAr', ''),\n",
       "              ('FTr', '0.259'),\n",
       "              ('ORB%', ''),\n",
       "              ('DRB%', ''),\n",
       "              ('TRB%', ''),\n",
       "              ('AST%', ''),\n",
       "              ('STL%', ''),\n",
       "              ('BLK%', ''),\n",
       "              ('TOV%', ''),\n",
       "              ('USG%', ''),\n",
       "              ('blanl', ''),\n",
       "              ('OWS', '0.9'),\n",
       "              ('DWS', '2.8'),\n",
       "              ('WS', '3.6'),\n",
       "              ('WS/48', ''),\n",
       "              ('blank2', ''),\n",
       "              ('OBPM', ''),\n",
       "              ('DBPM', ''),\n",
       "              ('BPM', ''),\n",
       "              ('VORP', ''),\n",
       "              ('FG', '174'),\n",
       "              ('FGA', '499'),\n",
       "              ('FG%', '0.349'),\n",
       "              ('3P', ''),\n",
       "              ('3PA', ''),\n",
       "              ('3P%', ''),\n",
       "              ('2P', '174'),\n",
       "              ('2PA', '499'),\n",
       "              ('2P%', '0.349'),\n",
       "              ('eFG%', '0.349'),\n",
       "              ('FT', '90'),\n",
       "              ('FTA', '129'),\n",
       "              ('FT%', '0.698'),\n",
       "              ('ORB', ''),\n",
       "              ('DRB', ''),\n",
       "              ('TRB', ''),\n",
       "              ('AST', '140'),\n",
       "              ('STL', ''),\n",
       "              ('BLK', ''),\n",
       "              ('TOV', ''),\n",
       "              ('PF', '192'),\n",
       "              ('PTS', '438')]),\n",
       " OrderedDict([('', '3'),\n",
       "              ('Year', '1950'),\n",
       "              ('Player', 'Ed Bartels'),\n",
       "              ('Pos', 'F'),\n",
       "              ('Age', '24'),\n",
       "              ('Tm', 'TOT'),\n",
       "              ('G', '15'),\n",
       "              ('GS', ''),\n",
       "              ('MP', ''),\n",
       "              ('PER', ''),\n",
       "              ('TS%', '0.312'),\n",
       "              ('3PAr', ''),\n",
       "              ('FTr', '0.395'),\n",
       "              ('ORB%', ''),\n",
       "              ('DRB%', ''),\n",
       "              ('TRB%', ''),\n",
       "              ('AST%', ''),\n",
       "              ('STL%', ''),\n",
       "              ('BLK%', ''),\n",
       "              ('TOV%', ''),\n",
       "              ('USG%', ''),\n",
       "              ('blanl', ''),\n",
       "              ('OWS', '-0.5'),\n",
       "              ('DWS', '-0.1'),\n",
       "              ('WS', '-0.6'),\n",
       "              ('WS/48', ''),\n",
       "              ('blank2', ''),\n",
       "              ('OBPM', ''),\n",
       "              ('DBPM', ''),\n",
       "              ('BPM', ''),\n",
       "              ('VORP', ''),\n",
       "              ('FG', '22'),\n",
       "              ('FGA', '86'),\n",
       "              ('FG%', '0.256'),\n",
       "              ('3P', ''),\n",
       "              ('3PA', ''),\n",
       "              ('3P%', ''),\n",
       "              ('2P', '22'),\n",
       "              ('2PA', '86'),\n",
       "              ('2P%', '0.256'),\n",
       "              ('eFG%', '0.256'),\n",
       "              ('FT', '19'),\n",
       "              ('FTA', '34'),\n",
       "              ('FT%', '0.559'),\n",
       "              ('ORB', ''),\n",
       "              ('DRB', ''),\n",
       "              ('TRB', ''),\n",
       "              ('AST', '20'),\n",
       "              ('STL', ''),\n",
       "              ('BLK', ''),\n",
       "              ('TOV', ''),\n",
       "              ('PF', '29'),\n",
       "              ('PTS', '63')]),\n",
       " OrderedDict([('', '4'),\n",
       "              ('Year', '1950'),\n",
       "              ('Player', 'Ed Bartels'),\n",
       "              ('Pos', 'F'),\n",
       "              ('Age', '24'),\n",
       "              ('Tm', 'DNN'),\n",
       "              ('G', '13'),\n",
       "              ('GS', ''),\n",
       "              ('MP', ''),\n",
       "              ('PER', ''),\n",
       "              ('TS%', '0.308'),\n",
       "              ('3PAr', ''),\n",
       "              ('FTr', '0.378'),\n",
       "              ('ORB%', ''),\n",
       "              ('DRB%', ''),\n",
       "              ('TRB%', ''),\n",
       "              ('AST%', ''),\n",
       "              ('STL%', ''),\n",
       "              ('BLK%', ''),\n",
       "              ('TOV%', ''),\n",
       "              ('USG%', ''),\n",
       "              ('blanl', ''),\n",
       "              ('OWS', '-0.5'),\n",
       "              ('DWS', '-0.1'),\n",
       "              ('WS', '-0.6'),\n",
       "              ('WS/48', ''),\n",
       "              ('blank2', ''),\n",
       "              ('OBPM', ''),\n",
       "              ('DBPM', ''),\n",
       "              ('BPM', ''),\n",
       "              ('VORP', ''),\n",
       "              ('FG', '21'),\n",
       "              ('FGA', '82'),\n",
       "              ('FG%', '0.256'),\n",
       "              ('3P', ''),\n",
       "              ('3PA', ''),\n",
       "              ('3P%', ''),\n",
       "              ('2P', '21'),\n",
       "              ('2PA', '82'),\n",
       "              ('2P%', '0.256'),\n",
       "              ('eFG%', '0.256'),\n",
       "              ('FT', '17'),\n",
       "              ('FTA', '31'),\n",
       "              ('FT%', '0.548'),\n",
       "              ('ORB', ''),\n",
       "              ('DRB', ''),\n",
       "              ('TRB', ''),\n",
       "              ('AST', '20'),\n",
       "              ('STL', ''),\n",
       "              ('BLK', ''),\n",
       "              ('TOV', ''),\n",
       "              ('PF', '27'),\n",
       "              ('PTS', '59')])]"
      ]
     },
     "execution_count": 173,
     "metadata": {},
     "output_type": "execute_result"
    }
   ],
   "source": [
    "import csv\n",
    "import pprint\n",
    "import matplotlib.pyplot as plt\n",
    "from functools import reduce\n",
    "\n",
    "reader = csv.DictReader(open('nba-players-stats/Seasons_Stats.csv', 'r'))    \n",
    "season_stats = []\n",
    "\n",
    "for line in reader:\n",
    "    season_stats.append(line)\n",
    "\n",
    "\n",
    "season_stats[:5]\n",
    "    \n",
    "# Entry number is same as index "
   ]
  },
  {
   "cell_type": "markdown",
   "metadata": {},
   "source": [
    "# Cleaning:\n",
    "\n",
    "* Problems: Some entries are NaN for a few reasons. Some stats didn't exist in certain years, eg. 3 pointers weren't added until '79. In other years, certain stats (TOV, ORB, DRB, etc) were just simply not recorded. For these entries, the csv records null. \n",
    "\n",
    "\n",
    "* This problem only applies to \"antique\" player records. We do not have this entry discrepency with modern players. "
   ]
  },
  {
   "cell_type": "markdown",
   "metadata": {},
   "source": [
    "# Question 1 - How have injuries impacted player performance?\n",
    "\n",
    "* Problems implementing this __without pandas__:\n",
    "    * average_stats takes dataframe as parameter\n",
    "    * using the dataframe, you can index right into a certain player stat\n",
    "    \n",
    "* Attempt without pandas:\n",
    "    * Find Grant Hill's entry in the dictionary\n",
    "    * Get his PER for each year\n",
    "    * Average and compare the two time periods\n"
   ]
  },
  {
   "cell_type": "markdown",
   "metadata": {},
   "source": [
    "# The Case of Grant Hill\n",
    "\n",
    "* The years we're interested in are his full, healthy seasons before injury: 1995-2001 and his seasons after: 2002-2013\n",
    "\n",
    "## First, we will examine his PER. "
   ]
  },
  {
   "cell_type": "code",
   "execution_count": 158,
   "metadata": {},
   "outputs": [],
   "source": [
    "grantHill = [] #create list of only Grant's entries\n",
    "for i in range(len(season_stats)):\n",
    "    if (season_stats[i][\"Player\"] == \"Grant Hill\"):\n",
    "        grantHill.append(season_stats[i])\n",
    "\n"
   ]
  },
  {
   "cell_type": "code",
   "execution_count": 161,
   "metadata": {},
   "outputs": [],
   "source": [
    "#access each year's PER value\n",
    "perValues = []\n",
    "for i in range(len(grantHill)):\n",
    "     perValues.append(grantHill[i][\"PER\"])\n",
    "        \n",
    "#get the years before injury\n",
    "beforeInjury = perValues[:7]\n",
    "afterInjury = perValues[7:]\n",
    "\n",
    "#parse list of strings to int\n",
    "\n",
    "beforeInjury = list(map(float, beforeInjury))\n",
    "afterInjury = list(map(float, afterInjury))\n",
    "\n",
    "averageBefore = reduce((lambda x, y: x + y), beforeInjury)/ len(beforeInjury)\n",
    "averageAfter = reduce((lambda x, y: x + y), afterInjury)/ len(afterInjury)\n",
    "\n"
   ]
  },
  {
   "cell_type": "code",
   "execution_count": 162,
   "metadata": {},
   "outputs": [
    {
     "name": "stdout",
     "output_type": "stream",
     "text": [
      "The impact of injury is: 6.462337662337662. Unfortunately, this player has declined after injury.\n"
     ]
    }
   ],
   "source": [
    "injury_impact = averageBefore - averageAfter\n",
    "\n",
    "if(injury_impact < 0):\n",
    "    print (f'The impact of injury is: {injury_impact}. Fortunately, this player has improved after injury.')\n",
    "\n",
    "else:\n",
    "    print (f'The impact of injury is: {injury_impact}. Unfortunately, this player has declined after injury.')\n"
   ]
  },
  {
   "cell_type": "markdown",
   "metadata": {},
   "source": [
    "## Secondly, we'll look at his Games played and Minutes played\n",
    "* 2 important stats that can serve as a general indicator of a player's consistency and overall fitness. \n",
    "* Without Pandas: Do the same thing as before with PER"
   ]
  },
  {
   "cell_type": "code",
   "execution_count": 163,
   "metadata": {},
   "outputs": [
    {
     "name": "stdout",
     "output_type": "stream",
     "text": [
      "['70', '80', '80', '81', '50', '74', '4', '14', '29', '67', '21', '65', '70', '82', '81', '80', '49', '29']\n"
     ]
    }
   ],
   "source": [
    "#access each year's G and MP value\n",
    "gValues = []\n",
    "for i in range(len(grantHill)):\n",
    "     gValues.append(grantHill[i][\"G\"])\n",
    "        \n",
    "#get the years before injury\n",
    "print(gValues)\n",
    "beforeInjury_G = gValues[:7]\n",
    "afterInjury_G = gValues[7:]\n",
    "\n",
    "#parse list of strings to int\n",
    "\n",
    "beforeInjury_G = list(map(float, beforeInjury_G))\n",
    "afterInjury_G = list(map(float, afterInjury_G))\n",
    "\n",
    "averageBefore_G = reduce((lambda x, y: x + y), beforeInjury_G)/ len(beforeInjury_G)\n",
    "averageAfter_G = reduce((lambda x, y: x + y), afterInjury_G)/ len(afterInjury_G)\n",
    "\n"
   ]
  },
  {
   "cell_type": "code",
   "execution_count": 164,
   "metadata": {},
   "outputs": [
    {
     "name": "stdout",
     "output_type": "stream",
     "text": [
      "The impact of injury is: 9.350649350649348. Unfortunately, this player has declined after injury.\n"
     ]
    }
   ],
   "source": [
    "injury_impact_G = averageBefore_G - averageAfter_G\n",
    "\n",
    "if(injury_impact_G < 0):\n",
    "    print (f'The impact of injury is: {injury_impact_G}. Fortunately, this player has improved after injury.')\n",
    "\n",
    "else:\n",
    "    print (f'The impact of injury is: {injury_impact_G}. Unfortunately, this player has declined after injury.')\n"
   ]
  },
  {
   "cell_type": "markdown",
   "metadata": {},
   "source": [
    "# Conclusion to Q1:\n",
    "* Both Grant Hill's average PER and G/MP declined after the year 2001, which is when his injury happened. \n",
    "* While this code doesn't take into account other factors that can affect these 3 stats, such as age, team changes, position changes, etc, it can give us a general idea of the impact of his injury on his NBA career.\n",
    "* The functions used to answer Q1 can be used to analyze other players  by adjusting the parameters. "
   ]
  },
  {
   "cell_type": "markdown",
   "metadata": {},
   "source": [
    "# Question 2 - Do Lebron James' stats reflect his age? Is Lebron slowing down with age, staying the same, or is he getting even better? \n",
    "\n",
    "\n",
    "* Key stats to look for: \n",
    "    Games (G), Games Started (GS), Minutes Played (MP), PER, effective field goal percentage (eFG%), PTS (points per season), AST (assists per season), STL (steals per season), BLK (blocks per season)\n",
    "    \n",
    "* Method: Examine these stats for each year. If needed, compare them to __career averages__. \n",
    "\n",
    "## Without Pandas:\n",
    "* Attempt to plot without dataframe assistance\n",
    "* Will use orderedDict instead"
   ]
  },
  {
   "cell_type": "code",
   "execution_count": 165,
   "metadata": {},
   "outputs": [],
   "source": [
    "lebron_stats = [] #create list of only Lebron's entries\n",
    "for i in range(len(season_stats)):\n",
    "    if (season_stats[i][\"Player\"] == \"LeBron James\"):\n",
    "        lebron_stats.append(season_stats[i])\n",
    "        \n"
   ]
  },
  {
   "cell_type": "code",
   "execution_count": 175,
   "metadata": {},
   "outputs": [
    {
     "data": {
      "image/png": "[encoded data removed]",
      "text/plain": [
       "<Figure size 432x288 with 1 Axes>"
      ]
     },
     "metadata": {},
     "output_type": "display_data"
    },
    {
     "name": "stdout",
     "output_type": "stream",
     "text": [
      "[19.0, 20.0, 21.0, 22.0, 23.0, 24.0, 25.0, 26.0, 27.0, 28.0, 29.0, 30.0, 31.0, 32.0]\n",
      "[79.0, 80.0, 79.0, 78.0, 75.0, 81.0, 76.0, 79.0, 62.0, 76.0, 77.0, 69.0, 76.0, 74.0]\n",
      "[3122.0, 3388.0, 3361.0, 3190.0, 3027.0, 3054.0, 2966.0, 3063.0, 2326.0, 2877.0, 2902.0, 2493.0, 2709.0, 2794.0]\n",
      "[130.0, 177.0, 123.0, 125.0, 138.0, 137.0, 125.0, 124.0, 115.0, 129.0, 121.0, 109.0, 104.0, 92.0]\n"
     ]
    }
   ],
   "source": [
    "# Plot age against Games played\n",
    "\n",
    "\n",
    "# Get current axis to use for additional axis ax keyword arg\n",
    "# Plot G and GS over eachother\n",
    "# NEED: Axis for age as list of ages; G, GS, other stats, as list\n",
    "# After that, convert lists from string to float\n",
    "# PLOT\n",
    "age = []\n",
    "G = []\n",
    "GS = []\n",
    "MP = []\n",
    "per = []\n",
    "pts = []\n",
    "assists = []\n",
    "steals = []\n",
    "blocks = []\n",
    "efg = []\n",
    "\n",
    "#Generate lists for each stat type\n",
    "for i in range(len(lebron_stats)):\n",
    "     age.append(lebron_stats[i][\"Age\"])\n",
    "\n",
    "for i in range(len(lebron_stats)):\n",
    "     G.append(lebron_stats[i][\"G\"])\n",
    "\n",
    "for i in range(len(lebron_stats)):\n",
    "     GS.append(lebron_stats[i][\"GS\"])\n",
    "        \n",
    "\n",
    "for i in range(len(lebron_stats)):\n",
    "     MP.append(lebron_stats[i][\"MP\"])\n",
    "        \n",
    "for i in range(len(lebron_stats)):\n",
    "     per.append(lebron_stats[i][\"PER\"])\n",
    "\n",
    "    \n",
    "for i in range(len(lebron_stats)):\n",
    "     pts.append(lebron_stats[i][\"PTS\"])\n",
    "        \n",
    "for i in range(len(lebron_stats)):\n",
    "     assists.append(lebron_stats[i][\"AST\"])\n",
    "        \n",
    "for i in range(len(lebron_stats)):\n",
    "     steals.append(lebron_stats[i][\"STL\"])\n",
    "        \n",
    "for i in range(len(lebron_stats)):\n",
    "     blocks.append(lebron_stats[i][\"BLK\"])\n",
    "        \n",
    "for i in range(len(lebron_stats)):\n",
    "     efg.append(lebron_stats[i][\"eFG%\"])\n",
    "\n",
    "#Convert from string to float for calculations\n",
    "age = list(map(float, age))\n",
    "G = list(map(float, G))\n",
    "GS = list(map(float, GS))\n",
    "MP = list(map(float, MP))\n",
    "per = list(map(float, per))\n",
    "pts = list(map(float, pts))\n",
    "assists = list(map(float, assists))\n",
    "steals = list(map(float, steals))\n",
    "blocks = list(map(float, blocks))\n",
    "efg = list(map(float, efg))\n",
    "\n",
    "#Get averages for each player stat\n",
    "averageG = reduce((lambda x, y: x + y),G)/ len(G)\n",
    "averageMP = reduce((lambda x, y: x + y),MP)/ len(MP)\n",
    "averagePER = reduce((lambda x, y: x + y),per)/ len(per)\n",
    "averageEFG = reduce((lambda x, y: x + y),efg)/ len(efg)\n",
    "averageSTL = reduce((lambda x, y: x + y),steals)/ len(steals)\n",
    "averageBLK = reduce((lambda x, y: x + y),blocks)/ len(blocks)\n",
    "averageAST = reduce((lambda x, y: x + y),assists)/ len(assists)\n",
    "averagePTS = reduce((lambda x, y: x + y),pts)/ len(pts)\n",
    "\n",
    "\n",
    "plt.plot(age, G)\n",
    "plt.plot(age, GS)\n",
    "plt.axhline(averageG, color = 'r', linestyle = \"--\")\n",
    "plt.show()\n",
    "\n",
    "#periodically show subsets of data\n",
    "print(age)\n",
    "print(G)\n",
    "print(MP)\n",
    "print(steals)\n",
    "\n",
    "\n",
    "\n"
   ]
  },
  {
   "cell_type": "markdown",
   "metadata": {},
   "source": [
    "## First impressions: \n",
    "* By overlaying his games started over games, with respect to age, we can see that age has __not__ affected his ability to play on the starting 5. In other words, age has not caused him to be benched in favor of younger players.\n",
    "* However, he is currently playing __fewer games per season than average__."
   ]
  },
  {
   "cell_type": "markdown",
   "metadata": {},
   "source": [
    "## Minutes Played\n",
    "* We see LeBron's MP dip __below__ his average as he ages. "
   ]
  },
  {
   "cell_type": "code",
   "execution_count": 167,
   "metadata": {},
   "outputs": [
    {
     "data": {
      "text/plain": [
       "<matplotlib.lines.Line2D at 0x7f0962ba7d30>"
      ]
     },
     "execution_count": 167,
     "metadata": {},
     "output_type": "execute_result"
    },
    {
     "data": {
      "image/png": "[encoded data removed]",
      "text/plain": [
       "<Figure size 432x288 with 1 Axes>"
      ]
     },
     "metadata": {},
     "output_type": "display_data"
    }
   ],
   "source": [
    "\n",
    "plt.plot(age, MP)\n",
    "\n",
    "\n",
    "#Overlay average minutes played with this graph\n",
    "\n",
    "\n",
    "plt.axhline(averageMP, color = 'r', linestyle = '--' )"
   ]
  },
  {
   "cell_type": "markdown",
   "metadata": {},
   "source": [
    "# Performance efficiency rating\n",
    "* LeBron has been quite consistent with his PER, apart from the outliers from his rookie years, he has __maintained a PER at or above his average.__"
   ]
  },
  {
   "cell_type": "code",
   "execution_count": 168,
   "metadata": {},
   "outputs": [
    {
     "data": {
      "text/plain": [
       "<matplotlib.lines.Line2D at 0x7f0969840400>"
      ]
     },
     "execution_count": 168,
     "metadata": {},
     "output_type": "execute_result"
    },
    {
     "data": {
      "image/png": "[encoded data removed]",
      "text/plain": [
       "<Figure size 432x288 with 1 Axes>"
      ]
     },
     "metadata": {},
     "output_type": "display_data"
    }
   ],
   "source": [
    "plt.plot(age, per)\n",
    "plt.axhline(averagePER, color = 'r', linestyle = '--' )"
   ]
  },
  {
   "cell_type": "markdown",
   "metadata": {},
   "source": [
    "# eFG%:\n",
    "* In recent years, LeBron has __exceeded or matched__ his average eFG%."
   ]
  },
  {
   "cell_type": "code",
   "execution_count": 169,
   "metadata": {},
   "outputs": [
    {
     "data": {
      "text/plain": [
       "<matplotlib.lines.Line2D at 0x7f094f03abe0>"
      ]
     },
     "execution_count": 169,
     "metadata": {},
     "output_type": "execute_result"
    },
    {
     "data": {
      "image/png": "[encoded data removed]",
      "text/plain": [
       "<Figure size 432x288 with 1 Axes>"
      ]
     },
     "metadata": {},
     "output_type": "display_data"
    }
   ],
   "source": [
    "plt.plot(age, efg)\n",
    "\n",
    "# plot average against trend\n",
    "plt.axhline(averageEFG, color = 'r', linestyle = '--' )"
   ]
  },
  {
   "cell_type": "markdown",
   "metadata": {},
   "source": [
    "# Points, assists, steals, blocks\n",
    "* Plot points and assists separately due to higher value ranges\n",
    "* We observe that his points, steals, and blocks are __below career average__ in recent years. \n",
    "* However, his assists are currently __above average__."
   ]
  },
  {
   "cell_type": "code",
   "execution_count": 170,
   "metadata": {},
   "outputs": [
    {
     "data": {
      "text/plain": [
       "<matplotlib.lines.Line2D at 0x7f094efc1828>"
      ]
     },
     "execution_count": 170,
     "metadata": {},
     "output_type": "execute_result"
    },
    {
     "data": {
      "image/png": "[encoded data removed]",
      "text/plain": [
       "<Figure size 432x288 with 1 Axes>"
      ]
     },
     "metadata": {},
     "output_type": "display_data"
    }
   ],
   "source": [
    "\n",
    "plt.plot(age, steals)\n",
    "\n",
    "plt.plot(age, blocks)\n",
    "\n",
    "# plot average against trend\n",
    "plt.axhline(averageSTL, color = \"g\", linestyle = \"--\")\n",
    "plt.axhline(averageBLK, color = \"r\", linestyle = \"--\")"
   ]
  },
  {
   "cell_type": "code",
   "execution_count": 171,
   "metadata": {},
   "outputs": [
    {
     "data": {
      "text/plain": [
       "<matplotlib.lines.Line2D at 0x7f0961d0a4a8>"
      ]
     },
     "execution_count": 171,
     "metadata": {},
     "output_type": "execute_result"
    },
    {
     "data": {
      "image/png": "[encoded data removed]",
      "text/plain": [
       "<Figure size 432x288 with 1 Axes>"
      ]
     },
     "metadata": {},
     "output_type": "display_data"
    }
   ],
   "source": [
    "plt.plot(age, assists)\n",
    "\n",
    "plt.axhline(averageAST, color = 'r', linestyle = \"--\")"
   ]
  },
  {
   "cell_type": "code",
   "execution_count": 172,
   "metadata": {},
   "outputs": [
    {
     "data": {
      "text/plain": [
       "<matplotlib.lines.Line2D at 0x7f095f9a9e10>"
      ]
     },
     "execution_count": 172,
     "metadata": {},
     "output_type": "execute_result"
    },
    {
     "data": {
      "image/png": "[encoded data removed]",
      "text/plain": [
       "<Figure size 432x288 with 1 Axes>"
      ]
     },
     "metadata": {},
     "output_type": "display_data"
    }
   ],
   "source": [
    "plt.plot(age, pts)\n",
    "\n",
    "plt.axhline(averagePTS, color = 'r', linestyle = \"--\")"
   ]
  },
  {
   "cell_type": "markdown",
   "metadata": {},
   "source": [
    "# Conclusion to Q2:\n",
    "* By plotting LeBron's stat trend against age, we are able to conclude that the following stats have __improved or stayed the same__ with age.\n",
    "    * PER, eFG%, AST\n",
    "* However, some stats have definitely __fallen off__ with age: \n",
    "    * MP, G, PTS, STL, BLK\n",
    "    \n",
    "## Has age caused LeBron to decline? \n",
    "* Yes, in some aspects. However, he has improved in both PER and eFG%, both of which are important stats that cannot be ignored. PER is an official value formulated by John Hollinger."
   ]
  },
  {
   "cell_type": "markdown",
   "metadata": {},
   "source": [
    "# Final comments on Python version\n",
    "\n",
    "## Approach: \n",
    "* Instead of relying on the indexability of dataframes, I pre-populated lists with the data I needed.\n",
    "* No problems except for the initial representation of the dictionary.\n",
    "* Not as modular as with pandas.\n",
    "* Had to change the plotting to work without dataframes."
   ]
  },
  {
   "cell_type": "code",
   "execution_count": null,
   "metadata": {},
   "outputs": [],
   "source": []
  }
 ],
 "metadata": {
  "kernelspec": {
   "display_name": "Python 3",
   "language": "python",
   "name": "python3"
  },
  "language_info": {
   "codemirror_mode": {
    "name": "ipython",
    "version": 3
   },
   "file_extension": ".py",
   "mimetype": "text/x-python",
   "name": "python",
   "nbconvert_exporter": "python",
   "pygments_lexer": "ipython3",
   "version": "3.6.5"
  }
 },
 "nbformat": 4,
 "nbformat_minor": 2
}
